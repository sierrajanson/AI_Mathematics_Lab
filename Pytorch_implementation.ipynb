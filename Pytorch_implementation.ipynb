{
  "cells": [
    {
      "cell_type": "markdown",
      "metadata": {
        "id": "MHVB21wICLOu"
      },
      "source": [
        "## Neural Net using 🐍🔥 Pytorch"
      ]
    },
    {
      "cell_type": "markdown",
      "metadata": {
        "id": "9KAH2EQMCLOw"
      },
      "source": [
        "### Downloading Our Dependencies\n",
        "***\n",
        "1. Scipy\n",
        "1. Pytorch\n",
        "1. Numpy\n",
        "1. Matplotlib"
      ]
    },
    {
      "cell_type": "code",
      "execution_count": null,
      "metadata": {
        "id": "D8OMg7aoCLOw",
        "colab": {
          "base_uri": "https://localhost:8080/"
        },
        "outputId": "fb84241e-7bcf-4d80-eebb-cc16104498a5"
      },
      "outputs": [
        {
          "output_type": "stream",
          "name": "stdout",
          "text": [
            "Requirement already satisfied: torch in /usr/local/lib/python3.10/dist-packages (2.2.1+cu121)\n",
            "Requirement already satisfied: torchvision in /usr/local/lib/python3.10/dist-packages (0.17.1+cu121)\n",
            "Requirement already satisfied: torchaudio in /usr/local/lib/python3.10/dist-packages (2.2.1+cu121)\n",
            "Requirement already satisfied: filelock in /usr/local/lib/python3.10/dist-packages (from torch) (3.13.4)\n",
            "Requirement already satisfied: typing-extensions>=4.8.0 in /usr/local/lib/python3.10/dist-packages (from torch) (4.11.0)\n",
            "Requirement already satisfied: sympy in /usr/local/lib/python3.10/dist-packages (from torch) (1.12)\n",
            "Requirement already satisfied: networkx in /usr/local/lib/python3.10/dist-packages (from torch) (3.3)\n",
            "Requirement already satisfied: jinja2 in /usr/local/lib/python3.10/dist-packages (from torch) (3.1.3)\n",
            "Requirement already satisfied: fsspec in /usr/local/lib/python3.10/dist-packages (from torch) (2023.6.0)\n",
            "Requirement already satisfied: nvidia-cuda-nvrtc-cu12==12.1.105 in /usr/local/lib/python3.10/dist-packages (from torch) (12.1.105)\n",
            "Requirement already satisfied: nvidia-cuda-runtime-cu12==12.1.105 in /usr/local/lib/python3.10/dist-packages (from torch) (12.1.105)\n",
            "Requirement already satisfied: nvidia-cuda-cupti-cu12==12.1.105 in /usr/local/lib/python3.10/dist-packages (from torch) (12.1.105)\n",
            "Requirement already satisfied: nvidia-cudnn-cu12==8.9.2.26 in /usr/local/lib/python3.10/dist-packages (from torch) (8.9.2.26)\n",
            "Requirement already satisfied: nvidia-cublas-cu12==12.1.3.1 in /usr/local/lib/python3.10/dist-packages (from torch) (12.1.3.1)\n",
            "Requirement already satisfied: nvidia-cufft-cu12==11.0.2.54 in /usr/local/lib/python3.10/dist-packages (from torch) (11.0.2.54)\n",
            "Requirement already satisfied: nvidia-curand-cu12==10.3.2.106 in /usr/local/lib/python3.10/dist-packages (from torch) (10.3.2.106)\n",
            "Requirement already satisfied: nvidia-cusolver-cu12==11.4.5.107 in /usr/local/lib/python3.10/dist-packages (from torch) (11.4.5.107)\n",
            "Requirement already satisfied: nvidia-cusparse-cu12==12.1.0.106 in /usr/local/lib/python3.10/dist-packages (from torch) (12.1.0.106)\n",
            "Requirement already satisfied: nvidia-nccl-cu12==2.19.3 in /usr/local/lib/python3.10/dist-packages (from torch) (2.19.3)\n",
            "Requirement already satisfied: nvidia-nvtx-cu12==12.1.105 in /usr/local/lib/python3.10/dist-packages (from torch) (12.1.105)\n",
            "Requirement already satisfied: triton==2.2.0 in /usr/local/lib/python3.10/dist-packages (from torch) (2.2.0)\n",
            "Requirement already satisfied: nvidia-nvjitlink-cu12 in /usr/local/lib/python3.10/dist-packages (from nvidia-cusolver-cu12==11.4.5.107->torch) (12.4.127)\n",
            "Requirement already satisfied: numpy in /usr/local/lib/python3.10/dist-packages (from torchvision) (1.25.2)\n",
            "Requirement already satisfied: pillow!=8.3.*,>=5.3.0 in /usr/local/lib/python3.10/dist-packages (from torchvision) (9.4.0)\n",
            "Requirement already satisfied: MarkupSafe>=2.0 in /usr/local/lib/python3.10/dist-packages (from jinja2->torch) (2.1.5)\n",
            "Requirement already satisfied: mpmath>=0.19 in /usr/local/lib/python3.10/dist-packages (from sympy->torch) (1.3.0)\n"
          ]
        }
      ],
      "source": [
        "# !pip install scipy\n",
        "!pip3 install torch torchvision torchaudio #COLAB ALREADY HAS ALL OF THESE BY DEFAULT\n",
        "# !pip install numpy"
      ]
    },
    {
      "cell_type": "markdown",
      "metadata": {
        "id": "fKAs__4xCLOx"
      },
      "source": [
        "### Importing Our Dependencies ✅\n",
        "***"
      ]
    },
    {
      "cell_type": "code",
      "execution_count": null,
      "metadata": {
        "id": "lx9DHAPQCLOx"
      },
      "outputs": [],
      "source": [
        "import torch\n",
        "from torch import nn\n",
        "from torch.optim import *\n",
        "import numpy as np\n",
        "import matplotlib.pyplot as plt\n"
      ]
    },
    {
      "cell_type": "markdown",
      "metadata": {
        "id": "JvTYbkvfCLO0"
      },
      "source": [
        "### Device Selector For Pytorch\n",
        "***\n",
        "Will delegate computational tasks to CUDA compatible GPU if available"
      ]
    },
    {
      "cell_type": "code",
      "execution_count": null,
      "metadata": {
        "colab": {
          "base_uri": "https://localhost:8080/"
        },
        "id": "s7hYYWMCCLO0",
        "outputId": "a350932e-4009-497d-f832-b87d8a3f2a9e"
      },
      "outputs": [
        {
          "output_type": "stream",
          "name": "stdout",
          "text": [
            "Using cpu device\n",
            "Emptied the CUDA CACHE\n"
          ]
        }
      ],
      "source": [
        "device = (\n",
        "    \"cuda\"\n",
        "    if torch.cuda.is_available()\n",
        "    else \"mps\"\n",
        "    if torch.backends.mps.is_available()\n",
        "    else \"cpu\"\n",
        ")\n",
        "print(f\"Using {device} device\")\n",
        "torch.cuda.empty_cache()\n",
        "print(f\"Emptied the CUDA CACHE\")"
      ]
    },
    {
      "cell_type": "markdown",
      "metadata": {
        "id": "VDd8UdhZCLOy"
      },
      "source": [
        "### Code I \"Borrowed\" 😉 From Prof. Pedro's Notebook For Creation Of Lecture\n",
        "***\n",
        "returns us our X_learn Matrix (Inputs) and the Y_learn Matrix (Expected Outputs)"
      ]
    },
    {
      "cell_type": "code",
      "execution_count": null,
      "metadata": {
        "colab": {
          "base_uri": "https://localhost:8080/"
        },
        "id": "s84Ec_0kCLOy",
        "outputId": "604c5434-75a4-4d78-f118-c6b580f78bbb"
      },
      "outputs": [
        {
          "output_type": "stream",
          "name": "stdout",
          "text": [
            "x:[[0.1920723 ]\n",
            " [0.72566962]\n",
            " [0.7849367 ]\n",
            " [0.97209836]\n",
            " [0.85097142]\n",
            " [0.54359433]\n",
            " [0.08979087]\n",
            " [0.48887324]\n",
            " [0.92793635]\n",
            " [0.7876182 ]] y:[[0.03689177]\n",
            " [0.5265964 ]\n",
            " [0.61612563]\n",
            " [0.94497523]\n",
            " [0.72415235]\n",
            " [0.29549479]\n",
            " [0.0080624 ]\n",
            " [0.23899705]\n",
            " [0.86106587]\n",
            " [0.62034243]]\n"
          ]
        }
      ],
      "source": [
        "def concept(x, typ):\n",
        "    if typ==0:\n",
        "        return 4*x-4*x**2\n",
        "    elif typ==1:\n",
        "        return x**2\n",
        "    else:\n",
        "        return x*(3*x-2)**2\n",
        "def concept_lec(typ,m):\n",
        "    X_c=np.random.rand(m,1).astype(np.double)\n",
        "    Y_c=concept(X_c, typ).astype(np.double)\n",
        "    return X_c,Y_c\n",
        "Assignment=1\n",
        "Resolution=10\n",
        "X_learn, Y_learn=concept_lec(Assignment,Resolution)\n",
        "print(f\"x:{X_learn} y:{Y_learn}\")"
      ]
    },
    {
      "cell_type": "markdown",
      "metadata": {
        "id": "xXe_4_7ECLOz"
      },
      "source": [
        "### Converting The Inputs To A Tensor\n",
        "***\n",
        "Using datatype Float32 for better precision than regular float and faster compute times compared float 64"
      ]
    },
    {
      "cell_type": "code",
      "execution_count": null,
      "metadata": {
        "id": "jWoIS7rQCLOz",
        "colab": {
          "base_uri": "https://localhost:8080/",
          "height": 158
        },
        "outputId": "8d66a4ff-f9aa-453a-80ca-c0ea6604a398"
      },
      "outputs": [
        {
          "output_type": "error",
          "ename": "NameError",
          "evalue": "name 'X_learn' is not defined",
          "traceback": [
            "\u001b[0;31m---------------------------------------------------------------------------\u001b[0m",
            "\u001b[0;31mNameError\u001b[0m                                 Traceback (most recent call last)",
            "\u001b[0;32m<ipython-input-15-8162f85349ad>\u001b[0m in \u001b[0;36m<cell line: 1>\u001b[0;34m()\u001b[0m\n\u001b[0;32m----> 1\u001b[0;31m \u001b[0mX\u001b[0m \u001b[0;34m=\u001b[0m \u001b[0mtorch\u001b[0m\u001b[0;34m.\u001b[0m\u001b[0mtensor\u001b[0m\u001b[0;34m(\u001b[0m\u001b[0mX_learn\u001b[0m\u001b[0;34m,\u001b[0m\u001b[0mdtype\u001b[0m\u001b[0;34m=\u001b[0m\u001b[0mtorch\u001b[0m\u001b[0;34m.\u001b[0m\u001b[0mfloat32\u001b[0m\u001b[0;34m)\u001b[0m\u001b[0;34m.\u001b[0m\u001b[0mto\u001b[0m\u001b[0;34m(\u001b[0m\u001b[0mdevice\u001b[0m\u001b[0;34m)\u001b[0m\u001b[0;34m\u001b[0m\u001b[0;34m\u001b[0m\u001b[0m\n\u001b[0m\u001b[1;32m      2\u001b[0m \u001b[0mY\u001b[0m \u001b[0;34m=\u001b[0m \u001b[0mtorch\u001b[0m\u001b[0;34m.\u001b[0m\u001b[0mtensor\u001b[0m\u001b[0;34m(\u001b[0m\u001b[0mY_learn\u001b[0m\u001b[0;34m,\u001b[0m\u001b[0mdtype\u001b[0m\u001b[0;34m=\u001b[0m\u001b[0mtorch\u001b[0m\u001b[0;34m.\u001b[0m\u001b[0mfloat32\u001b[0m\u001b[0;34m)\u001b[0m\u001b[0;34m.\u001b[0m\u001b[0mto\u001b[0m\u001b[0;34m(\u001b[0m\u001b[0mdevice\u001b[0m\u001b[0;34m)\u001b[0m\u001b[0;34m\u001b[0m\u001b[0;34m\u001b[0m\u001b[0m\n",
            "\u001b[0;31mNameError\u001b[0m: name 'X_learn' is not defined"
          ]
        }
      ],
      "source": [
        "X = torch.tensor(X_learn,dtype=torch.float32).to(device)\n",
        "Y = torch.tensor(Y_learn,dtype=torch.float32).to(device)"
      ]
    },
    {
      "cell_type": "markdown",
      "metadata": {
        "id": "KFYQgiM7CLO0"
      },
      "source": [
        "### Defining Our Student Class 🧑‍🎓\n",
        "***\n",
        "Each student class follows the form:\n",
        "- Two sets of weights\n",
        " - A user defined number of neurons\n",
        "    * Default is 2\n",
        " - A user choice from a few implemented optimization functions\n",
        "    * Default is Adam\n",
        " - A user choice from a few implemented loss functions\n",
        "    * Default is MSE\n",
        "\n",
        "\n",
        "<details>\n",
        "    <summary> View All Optimizer Functions</summary>\n",
        "    ### Currently Implemented Optimizer Functions\n",
        "      * Adam\n",
        "      * SGD\n",
        "      * Adagrad\n",
        "      * LBFGS\n",
        "</details>\n",
        "<details>\n",
        "    <summary> View All Loss Functions</summary>\n",
        "    ### Currently Implemented Loss Functions\n",
        "      * MSE\n",
        "      * Gaussian\n",
        "      * MAE\n",
        "</details>\n",
        "\n"
      ]
    },
    {
      "cell_type": "code",
      "execution_count": null,
      "metadata": {
        "id": "GVKkHQK1CLO0"
      },
      "outputs": [],
      "source": [
        "class Student(nn.Module):\n",
        "    def __init__(self,neurons: int=2,optimizer=\"Adam\",lossfunc=\"MSE\"):\n",
        "        super().__init__()\n",
        "        self.layers=nn.Sequential(\n",
        "            nn.Linear(1,neurons),nn.Sigmoid(),nn.Linear(neurons,1)\n",
        "        )\n",
        "        if optimizer==\"Adam\":\n",
        "            self.optimizer= Adam(self.parameters())\n",
        "        elif optimizer==\"SGD\":\n",
        "            self.optimizer= SGD(self.parameters())\n",
        "        elif optimizer==\"Adagrad\":\n",
        "            self.optimizer= Adagrad(self.parameters())\n",
        "        elif optimizer==\"Adamax\":\n",
        "            self.optimizer= Adamax(self.parameters())\n",
        "        else:\n",
        "            print(f\"💀 Error! Unknown Optimizer '{optimizer}'\")\n",
        "            raise NameError\n",
        "        if lossfunc==\"MSE\":\n",
        "            self.loss= nn.MSELoss()\n",
        "        elif lossfunc==\"Gaussian\":\n",
        "            self.loss= nn.GaussianNLLLoss()\n",
        "        elif lossfunc==\"MAE\":  ##MAE is mean absolute error\n",
        "            self.loss= nn.L1Loss()\n",
        "        else:\n",
        "            print(\"💀 Error! Unknown Loss Functions '{lossfunc}'\")\n",
        "            raise NameError\n",
        "    def fit(self,x,Y):\n",
        "        self.optimizer.zero_grad() ##Resets the sum of gradients to zero, normally pytorch accumulates gradients during backward propogation and this is useful if we wish to train RNNs however, in our case it may have the unintended effect of pushing us away from our desired max or min, I encourage you to comment out the zero_grad and see what happens\n",
        "        y_pred=self.forward(x)\n",
        "        loss = self.loss(Y,y_pred)\n",
        "        loss.backward()\n",
        "        self.optimizer.step()\n",
        "        return loss.item()\n",
        "    def forward(self,x):\n",
        "        return self.layers(x)\n",
        "\n"
      ]
    },
    {
      "cell_type": "markdown",
      "metadata": {
        "id": "OdcJs1JaCLO1"
      },
      "source": [
        "### Here we define an instance of the student class called `student1`\n",
        "***\n",
        "- Student1 has 3 Neurons\n",
        "- Student 1 uses the Mean Squared Error function for calculating loss\n",
        "- Student 1 uses the Adam Optimizer"
      ]
    },
    {
      "cell_type": "code",
      "execution_count": null,
      "metadata": {
        "id": "A4ISE5mOCLO1"
      },
      "outputs": [],
      "source": [
        "student1=Student(3,\"Adam\",\"MSE\").to(device) ##To Device is to automatically send the model to the GPU"
      ]
    },
    {
      "cell_type": "markdown",
      "metadata": {
        "id": "hNWzKe9ICLO1"
      },
      "source": [
        "### Defining an instance `student2` with altered parameters\n",
        "***"
      ]
    },
    {
      "cell_type": "code",
      "execution_count": null,
      "metadata": {
        "id": "uSDvrrVjCLO1"
      },
      "outputs": [],
      "source": [
        "student2=Student(4,\"SGD\",\"MSE\").to(device)"
      ]
    },
    {
      "cell_type": "markdown",
      "metadata": {
        "id": "S4adsWodCLO1"
      },
      "source": [
        "### Defining Our Trainer Function\n",
        "***\n",
        "Simply pass in an instance of student class that you wish to train and optionally increase or decrease the number of epochs for training, by default it is set to 10000\n",
        "It returns a list that is of the form `[[Epochs],[Loss at Epochs]]`"
      ]
    },
    {
      "cell_type": "code",
      "execution_count": null,
      "metadata": {
        "id": "AcIZLC_ICLO2"
      },
      "outputs": [],
      "source": [
        "def trainer(Student,EPOCHS=10000):\n",
        "    EPOCH_ARR=[]\n",
        "    LOSS_ARR=[]\n",
        "    for i in range(EPOCHS):\n",
        "        loss = Student.fit(X,Y)\n",
        "        EPOCH_ARR.append(i)\n",
        "        LOSS_ARR.append(loss)\n",
        "    return [EPOCH_ARR,LOSS_ARR]"
      ]
    },
    {
      "cell_type": "markdown",
      "metadata": {
        "id": "agNZbXQ6CLO2"
      },
      "source": [
        "### Finally Training And Graphing Our Loss\n",
        "***\n",
        "1. Call the trainer function\n",
        "2. Create a figure using matplotlib\n",
        "3. Create A subplot\n",
        "4. Add all the points\n",
        "5. Minor Cosmetic stuff like arrows and titles\n",
        "6. Displaying graph!"
      ]
    },
    {
      "cell_type": "code",
      "execution_count": null,
      "metadata": {
        "colab": {
          "base_uri": "https://localhost:8080/",
          "height": 228
        },
        "id": "aW3ZW2JICLO2",
        "outputId": "9b7821d6-a1db-4c26-d4de-138203bfbe8b"
      },
      "outputs": [
        {
          "output_type": "error",
          "ename": "NameError",
          "evalue": "name 'student1' is not defined",
          "traceback": [
            "\u001b[0;31m---------------------------------------------------------------------------\u001b[0m",
            "\u001b[0;31mNameError\u001b[0m                                 Traceback (most recent call last)",
            "\u001b[0;32m<ipython-input-14-1e0ce6f1bbca>\u001b[0m in \u001b[0;36m<cell line: 3>\u001b[0;34m()\u001b[0m\n\u001b[1;32m      1\u001b[0m \u001b[0mfig\u001b[0m\u001b[0;34m=\u001b[0m \u001b[0mplt\u001b[0m\u001b[0;34m.\u001b[0m\u001b[0mfigure\u001b[0m\u001b[0;34m(\u001b[0m\u001b[0;34m)\u001b[0m\u001b[0;34m\u001b[0m\u001b[0;34m\u001b[0m\u001b[0m\n\u001b[1;32m      2\u001b[0m \u001b[0;34m\u001b[0m\u001b[0m\n\u001b[0;32m----> 3\u001b[0;31m \u001b[0moutput1\u001b[0m\u001b[0;34m=\u001b[0m\u001b[0mtrainer\u001b[0m\u001b[0;34m(\u001b[0m\u001b[0mstudent1\u001b[0m\u001b[0;34m)\u001b[0m\u001b[0;34m\u001b[0m\u001b[0;34m\u001b[0m\u001b[0m\n\u001b[0m\u001b[1;32m      4\u001b[0m \u001b[0mxpoints\u001b[0m \u001b[0;34m=\u001b[0m \u001b[0moutput1\u001b[0m\u001b[0;34m[\u001b[0m\u001b[0;36m0\u001b[0m\u001b[0;34m]\u001b[0m\u001b[0;34m\u001b[0m\u001b[0;34m\u001b[0m\u001b[0m\n\u001b[1;32m      5\u001b[0m \u001b[0mypoints\u001b[0m \u001b[0;34m=\u001b[0m \u001b[0moutput1\u001b[0m\u001b[0;34m[\u001b[0m\u001b[0;36m1\u001b[0m\u001b[0;34m]\u001b[0m\u001b[0;34m\u001b[0m\u001b[0;34m\u001b[0m\u001b[0m\n",
            "\u001b[0;31mNameError\u001b[0m: name 'student1' is not defined"
          ]
        },
        {
          "output_type": "display_data",
          "data": {
            "text/plain": [
              "<Figure size 640x480 with 0 Axes>"
            ]
          },
          "metadata": {}
        }
      ],
      "source": [
        "fig= plt.figure()\n",
        "\n",
        "output1=trainer(student1)\n",
        "xpoints = output1[0]\n",
        "ypoints = output1[1]\n",
        "ax1=fig.add_subplot(221)\n",
        "ax1.plot(xpoints, ypoints)\n",
        "ax1.ticklabel_format(style='plain')\n",
        "ax1.title.set_text(\"ADAM + MSE \")\n",
        "ax1.set_xlabel(\"Epochs ➡️\")\n",
        "ax1.set_ylabel(\"Loss ➡️\")\n",
        "ax1.set_ylim([0,0.5])\n",
        "\n",
        "output2=trainer(student2)\n",
        "xpoints = output2[0]\n",
        "ypoints = output2[1]\n",
        "ax1=fig.add_subplot(222)\n",
        "ax1.plot(xpoints, ypoints)\n",
        "ax1.ticklabel_format(style='plain')\n",
        "ax1.title.set_text(\"SGD + MSE \")\n",
        "ax1.set_xlabel(\"Epochs ➡️\")\n",
        "ax1.set_ylabel(\"Loss ➡️\")\n",
        "ax1.set_ylim([0,0.5])\n",
        "fig.tight_layout(pad=5.0)\n",
        "plt.show()"
      ]
    },
    {
      "cell_type": "markdown",
      "metadata": {
        "id": "9Tx5NqhqCLO2"
      },
      "source": [
        "### How To Run An Inference\n",
        "***\n",
        "pass your dataset into the class like: `student1(Tensor_input)`\n",
        "\n",
        "if you want to learn how to convert an array to a tensor scroll back up"
      ]
    },
    {
      "cell_type": "code",
      "execution_count": null,
      "metadata": {
        "colab": {
          "base_uri": "https://localhost:8080/"
        },
        "id": "6mIhAamfCLO2",
        "outputId": "8627f536-1374-4c73-cd28-abb0c37b3053"
      },
      "outputs": [
        {
          "output_type": "stream",
          "name": "stdout",
          "text": [
            "Predicted:tensor([[ 0.6521],\n",
            "        [ 0.4416],\n",
            "        [ 0.2562],\n",
            "        [ 0.0075],\n",
            "        [ 0.0786],\n",
            "        [ 0.3420],\n",
            "        [-0.0061],\n",
            "        [ 0.4858],\n",
            "        [ 0.5450],\n",
            "        [ 0.1751]], grad_fn=<AddmmBackward0>)\n",
            " Expected:tensor([[6.5171e-01],\n",
            "        [4.4218e-01],\n",
            "        [2.5917e-01],\n",
            "        [5.4981e-03],\n",
            "        [7.0543e-02],\n",
            "        [3.4493e-01],\n",
            "        [3.7447e-04],\n",
            "        [4.8524e-01],\n",
            "        [5.4341e-01],\n",
            "        [1.7481e-01]])\n"
          ]
        }
      ],
      "source": [
        "print(f\"Predicted:{student1(X)}\\n Expected:{Y}\")"
      ]
    },
    {
      "cell_type": "markdown",
      "source": [
        "Sierra experimenting with Sankritya's class\n",
        "\n",
        "Goals:\n",
        "*   Implement iterations for training\n",
        "*   Test multiple combinations at once and create standard graph to visualize this\n",
        "*   Have seed for random numbers\n",
        "*   fix Adagrad & FBSG\n",
        "*   testing with different neurons\n",
        "*   testing with different polynomials\n",
        "*   transfer learning idea\n",
        "\n",
        "\n",
        "\n",
        "\n",
        "\n",
        "\n",
        "\n",
        "\n",
        "\n"
      ],
      "metadata": {
        "id": "jW47ekI7CEtR"
      }
    },
    {
      "cell_type": "code",
      "source": [
        "def polynomial(x, typ):                            # can completely randomly generate a polynomial by generating random # of terms, power, coefficient\n",
        "    if typ==0:\n",
        "        return 4*x-4*x**2\n",
        "    elif typ==1:\n",
        "        return x**2\n",
        "    else:\n",
        "        return x*(3*x-2)**2\n",
        "\n",
        "def concept_lec(typ,m):\n",
        "    X_c=np.random.rand(m,1).astype(np.double)\n",
        "    Y_c=concept(X_c, typ).astype(np.double)\n",
        "    return X_c,Y_c\n",
        "\n",
        "def trainer(Student,X,Y,EPOCHS=10000):              # altering training function so can pass in custom polynomials easier\n",
        "    EPOCH_ARR=[]\n",
        "    LOSS_ARR=[]\n",
        "    for i in range(EPOCHS):\n",
        "        loss = Student.fit(X,Y)\n",
        "        EPOCH_ARR.append(i)\n",
        "        LOSS_ARR.append(loss)\n",
        "    return [EPOCH_ARR,LOSS_ARR]\n"
      ],
      "metadata": {
        "id": "gjQylfn5K4NV"
      },
      "execution_count": null,
      "outputs": []
    },
    {
      "cell_type": "code",
      "source": [
        "def loss_graph(train_output, out_num,label,graph_index):        # graphing function that just takes output of graph & label as a parameter\n",
        "  fig= plt.figure()\n",
        "  xpoints = train_output[0]\n",
        "  ax1=fig.add_subplot(graph_index)\n",
        "  for i in range(out_num):\n",
        "    ax1.plot(xpoints, train_output[i])\n",
        "  # ax1.ticklabel_format(style='plain')\n",
        "  ax1.title.set_text(label)\n",
        "  ax1.set_xlabel(\"Epochs ➡️\")\n",
        "  ax1.set_ylabel(\"Loss ➡️\")\n",
        "  # ax1.set_ylim([0,0.5])\n",
        "  # fig.tight_layout(pad=5.0)"
      ],
      "metadata": {
        "id": "OzuzRDBQCKJq"
      },
      "execution_count": null,
      "outputs": []
    },
    {
      "cell_type": "code",
      "source": [
        "np.random.seed(3)\n",
        "optimizers = [\"Adam\",\"SGD\",\"Adagrad\",\"Adamax\"]\n",
        "loss_funcs = [\"MSE\", \"Gaussian\", \"MAE\"]\n",
        "count = 0\n",
        "concept_num = 3\n",
        "out_list = []\n",
        "for i in range(len(optimizers)):\n",
        "  for j in range(concept_num): # num of concepts\n",
        "    student=Student(3,optimizers[i],loss_funcs[0]).to(device)\n",
        "    polynomials = [\"4*x-4*x**2\",\"x**2\",\"x*(3*x-2)**2\"]\n",
        "    Assignment=1\n",
        "    Resolution=100\n",
        "    X_learn, Y_learn=concept_lec(Assignment,Resolution)\n",
        "    X = torch.tensor(X_learn,dtype=torch.float32).to(device)\n",
        "    Y = torch.tensor(Y_learn,dtype=torch.float32).to(device)\n",
        "    out = trainer(student,X,Y)\n",
        "    out_list.append(out)\n",
        "  loss_graph(out_list,concept_num,optimizers[i]+\" + \"+loss_funcs[0]+\" + \"+polynomials[j],991+count)\n",
        "  count+=1\n",
        "\n",
        "\n",
        "\n",
        "\n",
        "plt.show()"
      ],
      "metadata": {
        "colab": {
          "base_uri": "https://localhost:8080/",
          "height": 497
        },
        "id": "D_xBiUP0Dygs",
        "outputId": "5b53bf93-a577-4c0a-cf6f-4a4e43272197"
      },
      "execution_count": null,
      "outputs": [
        {
          "output_type": "display_data",
          "data": {
            "text/plain": [
              "<Figure size 640x480 with 1 Axes>"
            ],
            "image/png": "[encoded data removed]"
          },
          "metadata": {}
        },
        {
          "output_type": "display_data",
          "data": {
            "text/plain": [
              "<Figure size 640x480 with 1 Axes>"
            ],
            "image/png": "[encoded data removed]"
          },
          "metadata": {}
        },
        {
          "output_type": "display_data",
          "data": {
            "text/plain": [
              "<Figure size 640x480 with 1 Axes>"
            ],
            "image/png": "[encoded data removed]"
          },
          "metadata": {}
        },
        {
          "output_type": "display_data",
          "data": {
            "text/plain": [
              "<Figure size 640x480 with 1 Axes>"
            ],
            "image/png": "[encoded data removed]"
          },
          "metadata": {}
        }
      ]
    }
  ],
  "metadata": {
    "kernelspec": {
      "display_name": "Python 3",
      "name": "python3"
    },
    "language_info": {
      "codemirror_mode": {
        "name": "ipython",
        "version": 3
      },
      "file_extension": ".py",
      "mimetype": "text/x-python",
      "name": "python",
      "nbconvert_exporter": "python",
      "pygments_lexer": "ipython3",
      "version": "3.12.1"
    },
    "colab": {
      "provenance": []
    }
  },
  "nbformat": 4,
  "nbformat_minor": 0
}